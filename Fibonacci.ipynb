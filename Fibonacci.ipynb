{
 "cells": [
  {
   "cell_type": "code",
   "execution_count": 12,
   "id": "3d6867d9",
   "metadata": {},
   "outputs": [],
   "source": [
    "def fibonacci(n):\n",
    "#     if n in fibonacci_cache[n]:\n",
    "#         return fibonacci_cache\n",
    "\n",
    "    if n == 1:\n",
    "        value = 1\n",
    "    elif n == 2:\n",
    "        value = 1\n",
    "    elif n > 2:\n",
    "        value = fibonacci(n-1) + fibonacci(n-2)\n",
    "    \n",
    "    fibonacci_cache[n] = value\n",
    "    return value"
   ]
  },
  {
   "cell_type": "code",
   "execution_count": 35,
   "id": "4beaa2be",
   "metadata": {},
   "outputs": [],
   "source": [
    "fibonacci_cache = {}"
   ]
  },
  {
   "cell_type": "code",
   "execution_count": 37,
   "id": "8304a912",
   "metadata": {},
   "outputs": [
    {
     "name": "stdout",
     "output_type": "stream",
     "text": [
      "1:1\n",
      "2:1\n",
      "3:2\n",
      "4:3\n",
      "5:5\n",
      "6:8\n",
      "7:13\n",
      "8:21\n",
      "9:34\n",
      "10:55\n",
      "11:89\n",
      "12:144\n",
      "13:233\n",
      "14:377\n",
      "15:610\n",
      "16:987\n",
      "17:1597\n",
      "18:2584\n",
      "19:4181\n",
      "20:6765\n",
      "21:10946\n",
      "22:17711\n",
      "23:28657\n",
      "24:46368\n",
      "25:75025\n",
      "26:121393\n",
      "27:196418\n",
      "28:317811\n",
      "29:514229\n"
     ]
    }
   ],
   "source": [
    "for i in range(1,30):\n",
    "    print(f'{i}:{fibonacci(i)}')\n",
    "    fibonacci_cache[i]:fibonacci(i)"
   ]
  },
  {
   "cell_type": "code",
   "execution_count": 38,
   "id": "455decb8",
   "metadata": {},
   "outputs": [
    {
     "data": {
      "text/plain": [
       "{1: 1,\n",
       " 2: 1,\n",
       " 3: 2,\n",
       " 4: 3,\n",
       " 5: 5,\n",
       " 6: 8,\n",
       " 7: 13,\n",
       " 8: 21,\n",
       " 9: 34,\n",
       " 10: 55,\n",
       " 11: 89,\n",
       " 12: 144,\n",
       " 13: 233,\n",
       " 14: 377,\n",
       " 15: 610,\n",
       " 16: 987,\n",
       " 17: 1597,\n",
       " 18: 2584,\n",
       " 19: 4181,\n",
       " 20: 6765,\n",
       " 21: 10946,\n",
       " 22: 17711,\n",
       " 23: 28657,\n",
       " 24: 46368,\n",
       " 25: 75025,\n",
       " 26: 121393,\n",
       " 27: 196418,\n",
       " 28: 317811,\n",
       " 29: 514229,\n",
       " 30: 832040,\n",
       " 31: 1346269,\n",
       " 32: 2178309,\n",
       " 33: 3524578,\n",
       " 34: 5702887,\n",
       " 35: 9227465,\n",
       " 36: 14930352}"
      ]
     },
     "execution_count": 38,
     "metadata": {},
     "output_type": "execute_result"
    }
   ],
   "source": [
    "fibonacci_cache"
   ]
  }
 ],
 "metadata": {
  "kernelspec": {
   "display_name": "Python 3",
   "language": "python",
   "name": "python3"
  },
  "language_info": {
   "codemirror_mode": {
    "name": "ipython",
    "version": 3
   },
   "file_extension": ".py",
   "mimetype": "text/x-python",
   "name": "python",
   "nbconvert_exporter": "python",
   "pygments_lexer": "ipython3",
   "version": "3.8.8"
  }
 },
 "nbformat": 4,
 "nbformat_minor": 5
}
