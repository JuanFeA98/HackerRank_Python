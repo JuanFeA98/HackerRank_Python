{
 "cells": [
  {
   "cell_type": "markdown",
   "id": "d51b0605-20c5-4192-a5eb-76b6bc99389a",
   "metadata": {},
   "source": [
    "# **HackerRank**"
   ]
  },
  {
   "cell_type": "markdown",
   "id": "46ab3b7e-3004-4568-91fc-bb4cefa80f64",
   "metadata": {},
   "source": [
    "## **Librerías**"
   ]
  },
  {
   "cell_type": "code",
   "execution_count": 1,
   "id": "804e98bf-b23f-4b45-a9c2-2edc2b5a2fce",
   "metadata": {},
   "outputs": [],
   "source": [
    "import pandas as pd\n",
    "import numpy as np\n",
    "import matplotlib.pyplot as plt\n",
    "import seaborn as sns"
   ]
  },
  {
   "cell_type": "code",
   "execution_count": 2,
   "id": "48e9b633-ab92-4347-be6a-60f724bc85f6",
   "metadata": {},
   "outputs": [],
   "source": [
    "import math\n",
    "import os\n",
    "import random \n",
    "import re\n",
    "import sys"
   ]
  },
  {
   "cell_type": "markdown",
   "id": "10e654a0-9c1f-4fba-9470-3f03f60a4308",
   "metadata": {},
   "source": [
    "## **Problemas I. Introducción**"
   ]
  },
  {
   "cell_type": "markdown",
   "id": "d97d2b3d-98f8-42f1-a509-2c171d747b07",
   "metadata": {},
   "source": [
    "### **001. Hello World**"
   ]
  },
  {
   "cell_type": "code",
   "execution_count": 3,
   "id": "978b1edc-cd84-42d7-8683-ba10f5665351",
   "metadata": {},
   "outputs": [
    {
     "name": "stdout",
     "output_type": "stream",
     "text": [
      "Hello, World!\n"
     ]
    }
   ],
   "source": [
    "print('Hello, World!')"
   ]
  },
  {
   "cell_type": "markdown",
   "id": "791edcce-5245-49e3-9b45-fa080046c29b",
   "metadata": {},
   "source": [
    "### **002. If-Else**"
   ]
  },
  {
   "cell_type": "code",
   "execution_count": 4,
   "id": "10093704-84df-406e-bd79-9590fe17ec08",
   "metadata": {},
   "outputs": [
    {
     "name": "stdout",
     "output_type": "stream",
     "text": [
      "Input:\n"
     ]
    },
    {
     "name": "stdin",
     "output_type": "stream",
     "text": [
      " 1\n"
     ]
    },
    {
     "name": "stdout",
     "output_type": "stream",
     "text": [
      " \n",
      "Output:\n",
      "Weird\n"
     ]
    }
   ],
   "source": [
    "print('Input:')\n",
    "n = int(input().strip())\n",
    "\n",
    "print(' ')\n",
    "print('Output:')\n",
    "if n%2 != 0:\n",
    "    print('Weird')\n",
    "elif n%2 == 0 and n>=2 and n<=5:\n",
    "    print('Not Weird')\n",
    "elif n%2 == 0 and n>=6 and n<=20:\n",
    "    print('Weird')\n",
    "elif n%2 == 0 and n>20:\n",
    "    print('Not Weird')"
   ]
  },
  {
   "cell_type": "markdown",
   "id": "f74a9936-d106-44bd-a457-9ac3d16a46bb",
   "metadata": {},
   "source": [
    "### **003. Arithmetich Operators**"
   ]
  },
  {
   "cell_type": "code",
   "execution_count": null,
   "id": "d6617ff2-0ebb-4b22-9541-9632dee55915",
   "metadata": {},
   "outputs": [
    {
     "name": "stdout",
     "output_type": "stream",
     "text": [
      "Input:\n",
      " 5\n",
      " 3\n",
      " \n",
      "Output:\n",
      "8\n",
      "2\n",
      "15\n"
     ]
    }
   ],
   "source": [
    "print('Input:')\n",
    "a = int(input())\n",
    "b = int(input())\n",
    "\n",
    "print(' ')\n",
    "print('Output:')\n",
    "print(a + b)\n",
    "print(a - b)\n",
    "print(a * b)"
   ]
  },
  {
   "cell_type": "markdown",
   "id": "76e1fe9b-711c-4c75-a122-9593187a8e05",
   "metadata": {},
   "source": [
    "### **004. Python Division**"
   ]
  },
  {
   "cell_type": "code",
   "execution_count": null,
   "id": "8a77f9a9-ecbe-4467-bdae-7cc0d54ad5dc",
   "metadata": {},
   "outputs": [
    {
     "name": "stdout",
     "output_type": "stream",
     "text": [
      "Input:\n",
      " 5\n",
      " 3\n",
      " \n",
      "Output:\n",
      "1\n",
      "1.6666666666666667\n"
     ]
    }
   ],
   "source": [
    "print('Input:')\n",
    "a = int(input())\n",
    "b = int(input())\n",
    "\n",
    "print(' ')\n",
    "print('Output:')\n",
    "print(int(a/b))\n",
    "print(float(a/b))"
   ]
  },
  {
   "cell_type": "markdown",
   "id": "3ad5f2e5-14e2-4fe7-a23b-39a56266c8c0",
   "metadata": {},
   "source": [
    "### **005. Loops**"
   ]
  },
  {
   "cell_type": "code",
   "execution_count": 7,
   "id": "1c763320-fb1f-4324-9d76-513b47067f89",
   "metadata": {},
   "outputs": [
    {
     "name": "stdout",
     "output_type": "stream",
     "text": [
      "Input:\n",
      " 5\n",
      " \n",
      "Output:\n",
      "0\n",
      "1\n",
      "4\n",
      "9\n",
      "16\n"
     ]
    }
   ],
   "source": [
    "print('Input:')\n",
    "n = int(input())\n",
    "\n",
    "print(' ')\n",
    "print('Output:')\n",
    "for i in range(n):\n",
    "    print(i**2)"
   ]
  },
  {
   "cell_type": "markdown",
   "id": "a09710ef-3cab-45a3-b8e6-9b5565303202",
   "metadata": {},
   "source": [
    "### **006. Write a Function**"
   ]
  },
  {
   "cell_type": "code",
   "execution_count": 8,
   "id": "05dd1fc7-2194-4045-9618-c2e65005b4c1",
   "metadata": {},
   "outputs": [
    {
     "name": "stdout",
     "output_type": "stream",
     "text": [
      "Input:\n",
      " 5\n",
      " \n",
      "Output:\n"
     ]
    },
    {
     "data": {
      "text/plain": [
       "False"
      ]
     },
     "execution_count": 8,
     "metadata": {},
     "output_type": "execute_result"
    }
   ],
   "source": [
    "def is_leap(year):\n",
    "    leap = False\n",
    "    if year%4 == 0:\n",
    "        if year%100 == 0:\n",
    "            leap = False\n",
    "            if year%400 == 0: \n",
    "                leap = True\n",
    "        else:\n",
    "            leap = True            \n",
    "    return leap\n",
    "\n",
    "print('Input:')\n",
    "year = int(input())\n",
    "\n",
    "print(' ')\n",
    "print('Output:')\n",
    "is_leap(year)"
   ]
  },
  {
   "cell_type": "markdown",
   "id": "95e7140a-0cae-48d0-8482-6d71767e0fce",
   "metadata": {},
   "source": [
    "### **007. Print a Function**"
   ]
  },
  {
   "cell_type": "code",
   "execution_count": 94,
   "id": "dd7801ac-9b23-4469-8ed9-2e5280f0d805",
   "metadata": {},
   "outputs": [
    {
     "name": "stdout",
     "output_type": "stream",
     "text": [
      "Input: \n",
      " 4\n",
      " \n",
      "Output:\n",
      "1234\n"
     ]
    }
   ],
   "source": [
    "print('Input: ')\n",
    "n = int(input())\n",
    "mensaje = ''\n",
    "\n",
    "print(' ')\n",
    "print('Output:')\n",
    "for i in range(n):\n",
    "    mensaje = mensaje + str(i+1)\n",
    "print(int(mensaje))"
   ]
  },
  {
   "cell_type": "markdown",
   "id": "3dfd43c1-8b2e-450e-b2ff-3de5157cd03b",
   "metadata": {},
   "source": [
    "## **Problemas II. Tipos de datos básicos**"
   ]
  },
  {
   "cell_type": "markdown",
   "id": "13dd6c23-69f2-4169-9ddf-35080b7355ac",
   "metadata": {},
   "source": [
    "### **001. List Comprehensions**"
   ]
  },
  {
   "cell_type": "code",
   "execution_count": 96,
   "id": "36cb2d26-5e3d-4c6c-b7a5-14b289b3f6db",
   "metadata": {},
   "outputs": [
    {
     "name": "stdout",
     "output_type": "stream",
     "text": [
      "Input: \n",
      " 1\n",
      " 1\n",
      " 2\n",
      " 3\n",
      " \n",
      "Output:\n"
     ]
    },
    {
     "data": {
      "text/plain": [
       "[[0, 0, 0],\n",
       " [0, 0, 1],\n",
       " [0, 0, 2],\n",
       " [0, 1, 0],\n",
       " [0, 1, 1],\n",
       " [0, 1, 2],\n",
       " [1, 0, 0],\n",
       " [1, 0, 1],\n",
       " [1, 0, 2],\n",
       " [1, 1, 0],\n",
       " [1, 1, 1],\n",
       " [1, 1, 2]]"
      ]
     },
     "execution_count": 96,
     "metadata": {},
     "output_type": "execute_result"
    }
   ],
   "source": [
    "print('Input: ')\n",
    "x = int(input())\n",
    "y = int(input())\n",
    "z = int(input())\n",
    "n = int(input())\n",
    "\n",
    "print(' ')\n",
    "print('Output:')\n",
    "coord = [[i, j, k] for i in range(x + 1) for j in range(y + 1) for k in range(z + 1) if (a + b + c) != n]\n",
    "coord"
   ]
  },
  {
   "cell_type": "markdown",
   "id": "b328e0fe-c6c2-428c-b86e-eb980063fe5f",
   "metadata": {},
   "source": [
    "### **002. Find the Runner-Up Score!**"
   ]
  },
  {
   "cell_type": "code",
   "execution_count": 37,
   "id": "b5e54f2a-7ac6-4f0a-9bea-4811348da083",
   "metadata": {},
   "outputs": [
    {
     "name": "stdout",
     "output_type": "stream",
     "text": [
      "Input: \n",
      " 5\n",
      " 2 3 6 6 5\n",
      "Output: \n",
      "5\n"
     ]
    }
   ],
   "source": [
    "print('Input: ')\n",
    "\n",
    "n = int(input())\n",
    "arr = map(int, input().split())\n",
    "\n",
    "a = list(set(arr))\n",
    "a.sort()\n",
    "\n",
    "print('Output: ')\n",
    "print(a[-2])"
   ]
  },
  {
   "cell_type": "markdown",
   "id": "79e18e57-f78e-4f73-80e2-f78cf865062c",
   "metadata": {},
   "source": [
    "### **003. Nested Lists**"
   ]
  },
  {
   "cell_type": "code",
   "execution_count": 5,
   "id": "8ab4f7db-0cf1-4f13-b275-c6f39c59b1bd",
   "metadata": {},
   "outputs": [
    {
     "name": "stdout",
     "output_type": "stream",
     "text": [
      "Input: \n",
      " 3\n",
      " a\n",
      " 1\n",
      " b\n",
      " 1\n",
      " c\n",
      " 0\n",
      "Output: \n",
      "a\n",
      "b\n"
     ]
    }
   ],
   "source": [
    "print('Input: ')\n",
    "\n",
    "prueba = []\n",
    "for _ in range(int(input())):\n",
    "    name = input()\n",
    "    score = float(input())\n",
    "\n",
    "    prueba.append([name, score])\n",
    "\n",
    "a = list(set([i[1] for i in prueba]))\n",
    "a.sort(reverse=True)\n",
    "\n",
    "nombres = []\n",
    "for i in prueba:\n",
    "    if i[1] == a[-2]:\n",
    "        nombres.append(i[0])\n",
    "\n",
    "print('Output: ')\n",
    "nombres.sort()\n",
    "for i in nombres:\n",
    "    print(i)"
   ]
  },
  {
   "cell_type": "markdown",
   "id": "25656c69",
   "metadata": {},
   "source": [
    "### **004. Finding the Percentage**"
   ]
  },
  {
   "cell_type": "code",
   "execution_count": null,
   "id": "76faaa06-354d-46cc-b79d-d8afa4bcd7dc",
   "metadata": {},
   "outputs": [
    {
     "name": "stdout",
     "output_type": "stream",
     "text": [
      "Input: \n",
      "Output: \n"
     ]
    }
   ],
   "source": [
    "print('Input: ')\n",
    "\n",
    "n = int(input())\n",
    "\n",
    "student_marks = {}\n",
    "for _ in range(n):\n",
    "    name, *line = input().split()\n",
    "    scores = list(map(float, line))\n",
    "    student_marks[name] = scores\n",
    "query_name = input()\n",
    "\n",
    "\n",
    "print('Output: ')"
   ]
  },
  {
   "cell_type": "code",
   "execution_count": null,
   "id": "2d926969",
   "metadata": {},
   "outputs": [
    {
     "name": "stdout",
     "output_type": "stream",
     "text": [
      "Input: \n",
      "Output: \n"
     ]
    }
   ],
   "source": [
    "print('Input: ')\n",
    "\n",
    "print('Output: ')"
   ]
  },
  {
   "cell_type": "markdown",
   "id": "7922905b",
   "metadata": {},
   "source": [
    "### **004. Finding the Percentage**"
   ]
  },
  {
   "cell_type": "code",
   "execution_count": 53,
   "id": "87a8c842",
   "metadata": {},
   "outputs": [
    {
     "name": "stdin",
     "output_type": "stream",
     "text": [
      " 2\n"
     ]
    }
   ],
   "source": [
    "n = int(input())\n",
    "student_marks = {}"
   ]
  },
  {
   "cell_type": "code",
   "execution_count": 54,
   "id": "d7dcccc0-8785-4a20-a540-82b68e392476",
   "metadata": {},
   "outputs": [
    {
     "name": "stdin",
     "output_type": "stream",
     "text": [
      " Harsh 25 26.5 28\n"
     ]
    },
    {
     "name": "stdout",
     "output_type": "stream",
     "text": [
      "['25', '26.5', '28']\n"
     ]
    },
    {
     "name": "stdin",
     "output_type": "stream",
     "text": [
      " Anurag 26 28 30\n"
     ]
    },
    {
     "name": "stdout",
     "output_type": "stream",
     "text": [
      "['26', '28', '30']\n"
     ]
    }
   ],
   "source": [
    "for _ in range(n):\n",
    "    name, *line = input().split()\n",
    "    scores = list(map(float, line))\n",
    "    print(line)\n",
    "    student_marks[name] = scores\n",
    "    #query_name = input()"
   ]
  },
  {
   "cell_type": "code",
   "execution_count": 55,
   "id": "5c028ea2-e5e1-4e7c-a8a9-5a510084de37",
   "metadata": {},
   "outputs": [],
   "source": [
    "query_name = 'Harsh'"
   ]
  },
  {
   "cell_type": "code",
   "execution_count": 64,
   "id": "0aada351-a600-4eee-af45-ead707f598ab",
   "metadata": {},
   "outputs": [
    {
     "data": {
      "text/plain": [
       "'26.50'"
      ]
     },
     "execution_count": 64,
     "metadata": {},
     "output_type": "execute_result"
    }
   ],
   "source": [
    "query_answer = student_marks[query_name]\n",
    "answer = round(sum(query_answer)/len(query_answer), 2)\n",
    "final_answer = \"{:.2f}\".format(answer)\n",
    "final_answer"
   ]
  }
 ],
 "metadata": {
  "kernelspec": {
   "display_name": "Python 3 (ipykernel)",
   "language": "python",
   "name": "python3"
  },
  "language_info": {
   "codemirror_mode": {
    "name": "ipython",
    "version": 3
   },
   "file_extension": ".py",
   "mimetype": "text/x-python",
   "name": "python",
   "nbconvert_exporter": "python",
   "pygments_lexer": "ipython3",
   "version": "3.9.13"
  },
  "vscode": {
   "interpreter": {
    "hash": "6a789dfa835230ebb7620d225cd129b0e10e9ac8573eae947b38c72213cfe3dd"
   }
  }
 },
 "nbformat": 4,
 "nbformat_minor": 5
}
