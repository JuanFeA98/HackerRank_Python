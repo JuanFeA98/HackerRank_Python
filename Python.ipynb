{
 "cells": [
  {
   "cell_type": "markdown",
   "id": "d51b0605-20c5-4192-a5eb-76b6bc99389a",
   "metadata": {},
   "source": [
    "# **HackerRank**"
   ]
  },
  {
   "cell_type": "markdown",
   "id": "46ab3b7e-3004-4568-91fc-bb4cefa80f64",
   "metadata": {},
   "source": [
    "## **Librerías**"
   ]
  },
  {
   "cell_type": "code",
   "execution_count": 1,
   "id": "804e98bf-b23f-4b45-a9c2-2edc2b5a2fce",
   "metadata": {},
   "outputs": [],
   "source": [
    "import pandas as pd\n",
    "import numpy as np\n",
    "import matplotlib.pyplot as plt\n",
    "import seaborn as sns"
   ]
  },
  {
   "cell_type": "code",
   "execution_count": 3,
   "id": "48e9b633-ab92-4347-be6a-60f724bc85f6",
   "metadata": {},
   "outputs": [],
   "source": [
    "import math\n",
    "import os\n",
    "import random \n",
    "import re\n",
    "import sys"
   ]
  },
  {
   "cell_type": "markdown",
   "id": "10e654a0-9c1f-4fba-9470-3f03f60a4308",
   "metadata": {},
   "source": [
    "## **Problemas I. Introducción**"
   ]
  },
  {
   "cell_type": "markdown",
   "id": "d97d2b3d-98f8-42f1-a509-2c171d747b07",
   "metadata": {},
   "source": [
    "### **001. Hello World**"
   ]
  },
  {
   "cell_type": "code",
   "execution_count": 2,
   "id": "978b1edc-cd84-42d7-8683-ba10f5665351",
   "metadata": {},
   "outputs": [
    {
     "name": "stdout",
     "output_type": "stream",
     "text": [
      "Hello, World!\n"
     ]
    }
   ],
   "source": [
    "print('Hello, World!')"
   ]
  },
  {
   "cell_type": "markdown",
   "id": "791edcce-5245-49e3-9b45-fa080046c29b",
   "metadata": {},
   "source": [
    "### **002. If-Else**"
   ]
  },
  {
   "cell_type": "code",
   "execution_count": 53,
   "id": "10093704-84df-406e-bd79-9590fe17ec08",
   "metadata": {},
   "outputs": [
    {
     "name": "stdout",
     "output_type": "stream",
     "text": [
      "Input:\n"
     ]
    },
    {
     "name": "stdin",
     "output_type": "stream",
     "text": [
      " 4\n"
     ]
    },
    {
     "name": "stdout",
     "output_type": "stream",
     "text": [
      " \n",
      "Output:\n",
      "Not Weird\n"
     ]
    }
   ],
   "source": [
    "print('Input:')\n",
    "n = int(input().strip())\n",
    "\n",
    "print(' ')\n",
    "print('Output:')\n",
    "if n%2 != 0:\n",
    "    print('Weird')\n",
    "elif n%2 == 0 and n>=2 and n<=5:\n",
    "    print('Not Weird')\n",
    "elif n%2 == 0 and n>=6 and n<=20:\n",
    "    print('Weird')\n",
    "elif n%2 == 0 and n>20:\n",
    "    print('Not Weird')"
   ]
  },
  {
   "cell_type": "markdown",
   "id": "f74a9936-d106-44bd-a457-9ac3d16a46bb",
   "metadata": {},
   "source": [
    "### **003. Arithmetich Operators**"
   ]
  },
  {
   "cell_type": "code",
   "execution_count": 52,
   "id": "d6617ff2-0ebb-4b22-9541-9632dee55915",
   "metadata": {},
   "outputs": [
    {
     "name": "stdout",
     "output_type": "stream",
     "text": [
      "Input:\n"
     ]
    },
    {
     "name": "stdin",
     "output_type": "stream",
     "text": [
      " 3\n",
      " 4\n"
     ]
    },
    {
     "name": "stdout",
     "output_type": "stream",
     "text": [
      " \n",
      "Output:\n",
      "7\n",
      "-1\n",
      "12\n"
     ]
    }
   ],
   "source": [
    "print('Input:')\n",
    "a = int(input())\n",
    "b = int(input())\n",
    "\n",
    "print(' ')\n",
    "print('Output:')\n",
    "print(a + b)\n",
    "print(a - b)\n",
    "print(a * b)"
   ]
  },
  {
   "cell_type": "markdown",
   "id": "76e1fe9b-711c-4c75-a122-9593187a8e05",
   "metadata": {},
   "source": [
    "### **004. Python Division**"
   ]
  },
  {
   "cell_type": "code",
   "execution_count": 51,
   "id": "8a77f9a9-ecbe-4467-bdae-7cc0d54ad5dc",
   "metadata": {},
   "outputs": [
    {
     "name": "stdout",
     "output_type": "stream",
     "text": [
      "Input:\n"
     ]
    },
    {
     "name": "stdin",
     "output_type": "stream",
     "text": [
      " 3\n",
      " 4\n"
     ]
    },
    {
     "name": "stdout",
     "output_type": "stream",
     "text": [
      " \n",
      "Output:\n",
      "0\n",
      "0.75\n"
     ]
    }
   ],
   "source": [
    "print('Input:')\n",
    "a = int(input())\n",
    "b = int(input())\n",
    "\n",
    "print(' ')\n",
    "print('Output:')\n",
    "print(int(a/b))\n",
    "print(float(a/b))"
   ]
  },
  {
   "cell_type": "markdown",
   "id": "3ad5f2e5-14e2-4fe7-a23b-39a56266c8c0",
   "metadata": {},
   "source": [
    "### **005. Loops**"
   ]
  },
  {
   "cell_type": "code",
   "execution_count": 50,
   "id": "1c763320-fb1f-4324-9d76-513b47067f89",
   "metadata": {},
   "outputs": [
    {
     "name": "stdout",
     "output_type": "stream",
     "text": [
      "Input:\n"
     ]
    },
    {
     "name": "stdin",
     "output_type": "stream",
     "text": [
      " 4\n"
     ]
    },
    {
     "name": "stdout",
     "output_type": "stream",
     "text": [
      " \n",
      "Output:\n",
      "0\n",
      "1\n",
      "4\n",
      "9\n"
     ]
    }
   ],
   "source": [
    "print('Input:')\n",
    "n = int(input())\n",
    "\n",
    "print(' ')\n",
    "print('Output:')\n",
    "for i in range(n):\n",
    "    print(i**2)"
   ]
  },
  {
   "cell_type": "markdown",
   "id": "a09710ef-3cab-45a3-b8e6-9b5565303202",
   "metadata": {},
   "source": [
    "### **006. Write a Function**"
   ]
  },
  {
   "cell_type": "code",
   "execution_count": 49,
   "id": "05dd1fc7-2194-4045-9618-c2e65005b4c1",
   "metadata": {},
   "outputs": [
    {
     "name": "stdout",
     "output_type": "stream",
     "text": [
      "Input:\n"
     ]
    },
    {
     "name": "stdin",
     "output_type": "stream",
     "text": [
      " 1992\n"
     ]
    },
    {
     "name": "stdout",
     "output_type": "stream",
     "text": [
      " \n",
      "Output:\n"
     ]
    },
    {
     "data": {
      "text/plain": [
       "True"
      ]
     },
     "execution_count": 49,
     "metadata": {},
     "output_type": "execute_result"
    }
   ],
   "source": [
    "def is_leap(year):\n",
    "    leap = False\n",
    "    if year%4 == 0:\n",
    "        if year%100 == 0:\n",
    "            leap = False\n",
    "            if year%400 == 0: \n",
    "                leap = True\n",
    "        else:\n",
    "            leap = True            \n",
    "    return leap\n",
    "\n",
    "print('Input:')\n",
    "year = int(input())\n",
    "\n",
    "print(' ')\n",
    "print('Output:')\n",
    "is_leap(year)"
   ]
  },
  {
   "cell_type": "markdown",
   "id": "95e7140a-0cae-48d0-8482-6d71767e0fce",
   "metadata": {},
   "source": [
    "### **007. Print a Function**"
   ]
  },
  {
   "cell_type": "code",
   "execution_count": 99,
   "id": "dd7801ac-9b23-4469-8ed9-2e5280f0d805",
   "metadata": {},
   "outputs": [
    {
     "name": "stdout",
     "output_type": "stream",
     "text": [
      "Input: \n"
     ]
    },
    {
     "name": "stdin",
     "output_type": "stream",
     "text": [
      " 3\n"
     ]
    },
    {
     "name": "stdout",
     "output_type": "stream",
     "text": [
      "123\n"
     ]
    }
   ],
   "source": [
    "print('Input: ')\n",
    "n = int(input())\n",
    "mensaje = ''\n",
    "\n",
    "for i in range(n):\n",
    "    mensaje = mensaje + str(i+1)\n",
    "print(int(mensaje))"
   ]
  },
  {
   "cell_type": "markdown",
   "id": "3dfd43c1-8b2e-450e-b2ff-3de5157cd03b",
   "metadata": {},
   "source": [
    "## **Problemas II. Tipos de datos básicos**"
   ]
  },
  {
   "cell_type": "markdown",
   "id": "13dd6c23-69f2-4169-9ddf-35080b7355ac",
   "metadata": {},
   "source": [
    "### **001. List Comprehensions**"
   ]
  },
  {
   "cell_type": "code",
   "execution_count": null,
   "id": "36cb2d26-5e3d-4c6c-b7a5-14b289b3f6db",
   "metadata": {},
   "outputs": [],
   "source": []
  },
  {
   "cell_type": "code",
   "execution_count": null,
   "id": "20c9f35d-2b88-4050-91da-716409c02941",
   "metadata": {},
   "outputs": [],
   "source": []
  },
  {
   "cell_type": "code",
   "execution_count": null,
   "id": "6a9abe18-5303-4f2d-a116-ffa2da34e9cf",
   "metadata": {},
   "outputs": [],
   "source": []
  },
  {
   "cell_type": "code",
   "execution_count": null,
   "id": "69fe20f5-115a-49ed-82aa-b3fcc1bc4e1a",
   "metadata": {},
   "outputs": [],
   "source": []
  }
 ],
 "metadata": {
  "kernelspec": {
   "display_name": "Python 3 (ipykernel)",
   "language": "python",
   "name": "python3"
  },
  "language_info": {
   "codemirror_mode": {
    "name": "ipython",
    "version": 3
   },
   "file_extension": ".py",
   "mimetype": "text/x-python",
   "name": "python",
   "nbconvert_exporter": "python",
   "pygments_lexer": "ipython3",
   "version": "3.10.4"
  }
 },
 "nbformat": 4,
 "nbformat_minor": 5
}
